{
  "nbformat": 4,
  "nbformat_minor": 0,
  "metadata": {
    "colab": {
      "provenance": [],
      "gpuType": "T4"
    },
    "kernelspec": {
      "name": "python3",
      "display_name": "Python 3"
    },
    "language_info": {
      "name": "python"
    },
    "accelerator": "GPU"
  },
  "cells": [
    {
      "cell_type": "code",
      "execution_count": null,
      "metadata": {
        "colab": {
          "base_uri": "https://localhost:8080/"
        },
        "id": "ax13G9B4-lcT",
        "outputId": "ca131f37-7423-4ad8-c5e0-881193981c95"
      },
      "outputs": [
        {
          "output_type": "stream",
          "name": "stderr",
          "text": [
            "/usr/local/lib/python3.10/dist-packages/numba/cuda/dispatcher.py:536: NumbaPerformanceWarning: Grid size 1 will likely result in GPU under-utilization due to low occupancy.\n",
            "  warn(NumbaPerformanceWarning(msg))\n",
            "/usr/local/lib/python3.10/dist-packages/numba/cuda/dispatcher.py:536: NumbaPerformanceWarning: Grid size 10 will likely result in GPU under-utilization due to low occupancy.\n",
            "  warn(NumbaPerformanceWarning(msg))\n"
          ]
        },
        {
          "output_type": "stream",
          "name": "stdout",
          "text": [
            "True\n",
            "True\n",
            "True\n",
            "True\n",
            "True\n",
            "True\n",
            "True\n",
            "True\n",
            "True\n",
            "True\n",
            "True\n",
            "True\n",
            "True\n",
            "True\n",
            "True\n",
            "True\n",
            "True\n",
            "True\n",
            "True\n",
            "True\n",
            "True\n",
            "True\n",
            "True\n",
            "True\n"
          ]
        },
        {
          "output_type": "stream",
          "name": "stderr",
          "text": [
            "/usr/local/lib/python3.10/dist-packages/numba/cuda/dispatcher.py:536: NumbaPerformanceWarning: Grid size 30 will likely result in GPU under-utilization due to low occupancy.\n",
            "  warn(NumbaPerformanceWarning(msg))\n"
          ]
        },
        {
          "output_type": "stream",
          "name": "stdout",
          "text": [
            "True\n",
            "True\n",
            "True\n",
            "True\n",
            "True\n",
            "True\n",
            "True\n"
          ]
        },
        {
          "output_type": "stream",
          "name": "stderr",
          "text": [
            "/usr/local/lib/python3.10/dist-packages/numba/cuda/dispatcher.py:536: NumbaPerformanceWarning: Grid size 49 will likely result in GPU under-utilization due to low occupancy.\n",
            "  warn(NumbaPerformanceWarning(msg))\n"
          ]
        },
        {
          "output_type": "stream",
          "name": "stdout",
          "text": [
            "True\n",
            "True\n",
            "True\n",
            "True\n",
            "True\n",
            "True\n",
            "True\n",
            "True\n",
            "True\n",
            "True"
          ]
        },
        {
          "output_type": "stream",
          "name": "stderr",
          "text": [
            "/usr/local/lib/python3.10/dist-packages/numba/cuda/dispatcher.py:536: NumbaPerformanceWarning: Grid size 98 will likely result in GPU under-utilization due to low occupancy.\n",
            "  warn(NumbaPerformanceWarning(msg))\n"
          ]
        },
        {
          "output_type": "stream",
          "name": "stdout",
          "text": [
            "\n",
            "True\n",
            "True\n",
            "True\n",
            "True\n",
            "True\n",
            "True\n",
            "True\n",
            "True\n",
            "True\n",
            "True\n",
            "True\n",
            "True\n",
            "True\n",
            "True\n",
            "True\n",
            "True\n",
            "True\n",
            "True\n",
            "True\n",
            "True\n",
            "True\n",
            "True\n",
            "True\n",
            "True\n",
            "True\n",
            "True\n",
            "True\n",
            "True\n",
            "True\n",
            "True\n",
            "True\n",
            "True\n",
            "True\n",
            "True\n",
            "True\n",
            "True\n",
            "True\n",
            "True\n",
            "True\n",
            "True\n",
            "True\n",
            "True\n",
            "True\n",
            "True\n",
            "True\n",
            "True\n",
            "True\n",
            "True\n",
            "True\n",
            "Results\n",
            "CPU time -  [0.0009224653244018554, 0.014687252044677735, 0.04207873344421387, 0.06520402431488037, 0.13403663635253907, 0.21209778785705566, 0.36282427310943605, 0.39262821674346926, 0.6933961868286133]\n",
            "GPU time -  [0.1840970516204834, 0.0030168533325195313, 0.005835413932800293, 0.003259897232055664, 0.007485342025756836, 0.0051298379898071286, 0.008149552345275878, 0.00897665023803711, 0.012472867965698242]\n"
          ]
        }
      ],
      "source": [
        "\n",
        "from numba import cuda, int32\n",
        "import numpy as np\n",
        "import math\n",
        "import time\n",
        "\n",
        "def generateRandomVector(dimension):\n",
        "    return np.random.randint(low=0, high=10, size=dimension)\n",
        "\n",
        "def cpuVectorSum(X, Y):\n",
        "    if len(X) != len(Y):\n",
        "        raise Exception('Can\\'t summate vectors with provided dimensions')\n",
        "\n",
        "    result = np.zeros(len(X))\n",
        "\n",
        "    for i in range(len(X)):\n",
        "      result[i] += X[i] + Y[i]\n",
        "\n",
        "    return result\n",
        "\n",
        "# Основано на https://numba\n",
        "TPB = 16\n",
        "\n",
        "@cuda.jit\n",
        "def vectorSum(a, b, c):\n",
        "    # like threadIdx.x + (blockIdx.x * blockDim.x)\n",
        "    tid = cuda.grid(1)\n",
        "    size = len(c)\n",
        "\n",
        "    if tid < size:\n",
        "        c[tid] = a[tid] + b[tid]\n",
        "\n",
        "def gpuVectorSum(X, Y):\n",
        "    result_host = np.zeros(len(X))\n",
        "\n",
        "    # передача данных на устройство\n",
        "    X_device = cuda.to_device(X)\n",
        "    Y_device = cuda.to_device(Y)\n",
        "    result_device = cuda.to_device(result_host)\n",
        "\n",
        "    vectorSum.forall(len(X))(X_device, Y_device, result_device)\n",
        "    #передача данных с девайса на хост\n",
        "    result_host = result_device.copy_to_host()\n",
        "    return result_host\n",
        "\n",
        "if __name__ == \"__main__\":\n",
        "    size = [1000, 10000, 30000, 50000, 100000, 250000, 500000, 750000, 1000000]\n",
        "    time_cpu = []\n",
        "    time_gpu = []\n",
        "    for k in size:\n",
        "      s1 = 0\n",
        "      s2 = 0\n",
        "      for i in range (10):\n",
        "        X = generateRandomVector(k)\n",
        "        Y = generateRandomVector(k)\n",
        "\n",
        "        start = time.time()\n",
        "\n",
        "        result =  cpuVectorSum(X, Y)\n",
        "        end = time.time()\n",
        "\n",
        "        s1+=end - start\n",
        "\n",
        "        start = time.time()\n",
        "        result1 = gpuVectorSum(X, Y)\n",
        "        end = time.time()\n",
        "        s2+=end - start\n",
        "        print (np.array_equal(result1,result))\n",
        "      time_cpu.append (s1/10)\n",
        "      time_gpu.append (s2/10)\n",
        "    print (\"Results\")\n",
        "    print(\"CPU time - \", time_cpu)\n",
        "    print(\"GPU time - \", time_gpu)"
      ]
    },
    {
      "cell_type": "code",
      "source": [
        "import matplotlib.pyplot as plt\n",
        "plt.title('Time')\n",
        "plt.xlabel('Size')\n",
        "plt.ylabel('Time (c)')\n",
        "plt.plot(size,time_cpu,'b--',size,time_gpu,'g')\n",
        "plt.legend(['CPU','GPU '], loc=2)\n",
        "plt.show()"
      ],
      "metadata": {
        "colab": {
          "base_uri": "https://localhost:8080/",
          "height": 472
        },
        "id": "zsZ5h2sS-ueF",
        "outputId": "56d1279a-4573-4de4-b558-d76729ddfe47"
      },
      "execution_count": null,
      "outputs": [
        {
          "output_type": "display_data",
          "data": {
            "text/plain": [
              "<Figure size 640x480 with 1 Axes>"
            ],
            "image/png": "[encoded data removed]"
          },
          "metadata": {}
        }
      ]
    },
    {
      "cell_type": "code",
      "source": [
        "plt.cla()\n",
        "plt.title('Acceleration')\n",
        "plt.xlabel('Size')\n",
        "plt.ylabel('Acceleration (count)')\n",
        "accel = []\n",
        "a = time_cpu[0]\n",
        "print(a)\n",
        "for i in range (len(time_cpu)):\n",
        "  accel.append(time_cpu[i]/time_gpu[i])\n",
        "\n",
        "plt.plot(size,accel,'b--')\n",
        "plt.show()"
      ],
      "metadata": {
        "colab": {
          "base_uri": "https://localhost:8080/",
          "height": 489
        },
        "id": "KIBtTZEb-xLp",
        "outputId": "a08b8345-fbe1-42d6-cb80-6f9c71af593d"
      },
      "execution_count": null,
      "outputs": [
        {
          "output_type": "stream",
          "name": "stdout",
          "text": [
            "0.0009224653244018554\n"
          ]
        },
        {
          "output_type": "display_data",
          "data": {
            "text/plain": [
              "<Figure size 640x480 with 1 Axes>"
            ],
            "image/png": "[encoded data removed]"
          },
          "metadata": {}
        }
      ]
    }
  ]
}